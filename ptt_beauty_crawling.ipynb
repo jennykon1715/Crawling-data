{
  "nbformat": 4,
  "nbformat_minor": 0,
  "metadata": {
    "colab": {
      "provenance": [],
      "authorship_tag": "ABX9TyPYTFARtAIY6BN+jGx8jmE3",
      "include_colab_link": true
    },
    "kernelspec": {
      "name": "python3",
      "display_name": "Python 3"
    },
    "language_info": {
      "name": "python"
    }
  },
  "cells": [
    {
      "cell_type": "markdown",
      "metadata": {
        "id": "view-in-github",
        "colab_type": "text"
      },
      "source": [
        "<a href=\"https://colab.research.google.com/github/jennykon1715/Crawling-data/blob/main/ptt_beauty_crawling.ipynb\" target=\"_parent\"><img src=\"https://colab.research.google.com/assets/colab-badge.svg\" alt=\"Open In Colab\"/></a>"
      ]
    },
    {
      "cell_type": "code",
      "execution_count": 1,
      "metadata": {
        "colab": {
          "base_uri": "https://localhost:8080/"
        },
        "id": "m_TYzL32SuCZ",
        "outputId": "c88c585b-dab4-4fdc-b672-debdae304eb4"
      },
      "outputs": [
        {
          "output_type": "stream",
          "name": "stdout",
          "text": [
            "檔案型態:jpg\n",
            "url: https://i.imgur.com/eT8ofhi.jpg\n",
            "正在下載圖片:https://i.imgur.com/eT8ofhi.jpg\n",
            "------------------------------\n",
            "檔案型態:jpg\n",
            "url: https://i.imgur.com/OJrUPbr.jpg\n",
            "正在下載圖片:https://i.imgur.com/OJrUPbr.jpg\n",
            "------------------------------\n",
            "檔案型態:jpg\n",
            "url: https://i.imgur.com/MrZUajC.jpg\n",
            "正在下載圖片:https://i.imgur.com/MrZUajC.jpg\n",
            "------------------------------\n",
            "檔案型態:jpg\n",
            "url: https://i.imgur.com/RrNJt1y.jpg\n",
            "正在下載圖片:https://i.imgur.com/RrNJt1y.jpg\n",
            "------------------------------\n",
            "檔案型態:jpg\n",
            "url: https://i.imgur.com/YGx57uU.jpg\n",
            "正在下載圖片:https://i.imgur.com/YGx57uU.jpg\n",
            "------------------------------\n",
            "檔案型態:jpg\n",
            "url: https://i.imgur.com/EaKmudk.jpg\n",
            "正在下載圖片:https://i.imgur.com/EaKmudk.jpg\n",
            "------------------------------\n"
          ]
        }
      ],
      "source": [
        "import requests\n",
        "from bs4 import BeautifulSoup\n",
        "import os #幫忙建立資料夾用\n",
        "\n",
        "def download_img(url, save_path):\n",
        "    print(f'正在下載圖片:{url}')\n",
        "    response = requests.get(url)\n",
        "    with open(save_path, 'wb') as file:\n",
        "        file.write(response.content)\n",
        "    print(\"-\" * 30)\n",
        "\n",
        "def main():\n",
        "    url = \"https://www.ptt.cc/bbs/Beauty/M.1686997472.A.FDA.html\"\n",
        "    headers = {\"Cookie\": \"over18=1\"}\n",
        "    response = requests.get(url, headers=headers)\n",
        "    soup = BeautifulSoup(response.text, \"html.parser\")\n",
        "    # print(soup.prettify())\n",
        "    spans = soup.find_all(\"span\", class_=\"article-meta-value\")\n",
        "    title = spans[2].text\n",
        "\n",
        "    #建立一個資料夾\n",
        "    dir_name = f\"images/{title}\"\n",
        "    if not os.path.exists(dir_name):\n",
        "        os.makedirs(dir_name)\n",
        "\n",
        "    #找到網頁中的所有圖片\n",
        "    links = soup.find_all(\"a\")\n",
        "    allow_file_name = ['jpg', 'png', 'jpeg', 'gif']\n",
        "    for link in links:\n",
        "        href = link.get('href')\n",
        "        if not href:\n",
        "            continue\n",
        "        file_name = href.split('/')[-1]  # 檔名是在/線的右邊，可用斜線做分割\n",
        "        extension = href.split('.')[-1].lower()\n",
        "        #print(extension)\n",
        "        if extension in allow_file_name:\n",
        "            print(f\"檔案型態:{extension}\")\n",
        "            print(f\"url: {href}\")\n",
        "            download_img(href, f\"{dir_name}/{file_name}\")\n",
        "\n",
        "        #print(href)\n",
        "\n",
        "\n",
        "\n",
        "\n",
        "if __name__ == \"__main__\":\n",
        "    main()"
      ]
    }
  ]
}